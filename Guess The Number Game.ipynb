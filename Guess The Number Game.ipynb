{
 "cells": [
  {
   "cell_type": "code",
   "execution_count": 1,
   "id": "96ae2cca",
   "metadata": {},
   "outputs": [],
   "source": [
    "import random"
   ]
  },
  {
   "cell_type": "code",
   "execution_count": 2,
   "id": "ba016145",
   "metadata": {},
   "outputs": [],
   "source": [
    "r_number = random.randint(1, 100)"
   ]
  },
  {
   "cell_type": "markdown",
   "id": "12de38a0",
   "metadata": {},
   "source": [
    "#### Run Any One Loop-Block"
   ]
  },
  {
   "cell_type": "markdown",
   "id": "5bd8fd01",
   "metadata": {},
   "source": [
    "##  For Loop!"
   ]
  },
  {
   "cell_type": "code",
   "execution_count": null,
   "id": "bd0c7443",
   "metadata": {},
   "outputs": [],
   "source": [
    "\n",
    "for guesses in range (0,r_number):\n",
    "   \n",
    "    user_guess =  int(input(\"\\nEnter your guess number between 1 to 100: \"))\n",
    "    if(user_guess==r_number):\n",
    "        print(\"You guessed it right!\")\n",
    "        \n",
    "        print(f\"You guessed the number in {guesses} guesses\")\n",
    "        with open(\"hiscore.txt\", \"r\") as f:\n",
    "            hiscore = int(f.read())\n",
    "        print(f\"Previous highscore was {hiscore} \")    \n",
    "\n",
    "        if(guesses<hiscore):\n",
    "            print(\"You have just broken the high score!\")\n",
    "            with open(\"hiscore.txt\", \"w\") as f:\n",
    "                f.write(str(guesses))\n",
    "        print(\"\\n \\n\")        \n",
    "    else:\n",
    "        if(user_guess>r_number):\n",
    "            print(\"You guessed it wrong! Enter a smaller number\")\n",
    "        else:\n",
    "            print(\"You guessed it wrong! Enter a larger number\")\n",
    "\n"
   ]
  },
  {
   "cell_type": "markdown",
   "id": "433258f0",
   "metadata": {},
   "source": [
    "## While Loop!"
   ]
  },
  {
   "cell_type": "code",
   "execution_count": null,
   "id": "4b7a64c4",
   "metadata": {},
   "outputs": [],
   "source": [
    "\n",
    "while(user_guess != r_number):\n",
    "    user_guess = int(input(\"Enter your guess: \"))\n",
    "    guesses += 1\n",
    "    if(user_guess==r_number):\n",
    "        print(\"You guessed it right!\")\n",
    "    else:\n",
    "        if(user_guess>r_number):\n",
    "            print(\"You guessed it wrong! Enter a smaller number\")\n",
    "        else:\n",
    "            print(\"You guessed it wrong! Enter a larger number\")\n",
    "\n",
    "print(f\"You guessed the number in {guesses} guesses\")\n",
    "with open(\"hiscore.txt\", \"r\") as f:\n",
    "    hiscore = int(f.read())\n",
    "print(f\"Previous highscore was {hiscore} \")    \n",
    "\n",
    "if(guesses<hiscore):\n",
    "    print(\"You have just broken the high score!\")\n",
    "    with open(\"hiscore.txt\", \"w\") as f:\n",
    "        f.write(str(guesses))"
   ]
  },
  {
   "cell_type": "code",
   "execution_count": null,
   "id": "33a74152",
   "metadata": {},
   "outputs": [],
   "source": []
  },
  {
   "cell_type": "code",
   "execution_count": null,
   "id": "5e7df60a",
   "metadata": {},
   "outputs": [],
   "source": []
  }
 ],
 "metadata": {
  "kernelspec": {
   "display_name": "Python 3",
   "language": "python",
   "name": "python3"
  },
  "language_info": {
   "codemirror_mode": {
    "name": "ipython",
    "version": 3
   },
   "file_extension": ".py",
   "mimetype": "text/x-python",
   "name": "python",
   "nbconvert_exporter": "python",
   "pygments_lexer": "ipython3",
   "version": "3.8.8"
  }
 },
 "nbformat": 4,
 "nbformat_minor": 5
}
